{
 "cells": [
  {
   "cell_type": "markdown",
   "metadata": {},
   "source": [
    "## Python/Numpy Workshop\n",
    "\n",
    "For this workshop you will be learning how to use the python library NumPy, which is heavily depended on when writing scripts for machine learning models, as it makes data processing intuitive.\n"
   ]
  },
  {
   "cell_type": "code",
   "execution_count": 13,
   "metadata": {},
   "outputs": [
    {
     "name": "stdout",
     "output_type": "stream",
     "text": [
      "[1 2 3]\n",
      "[2 3 5]\n"
     ]
    }
   ],
   "source": [
    "# 1. Import the numpy package under the name np. You will need to do this step everytime you want to use NumPy!\n",
    "# 2. Create a rank 1 array (1D) with values from 1 - 3. Call it Z, and print it. \n",
    "# 3. Change the first value of Z to a 5.\n",
    "# 4. Sort Z, and then print it.\n",
    "#########################\n",
    "import numpy as np\n",
    "\n",
    "Z = np.array([1, 2, 3])\n",
    "print(Z)\n",
    "Z[0] = 5\n",
    "Z.sort()\n",
    "print(Z)\n"
   ]
  },
  {
   "cell_type": "code",
   "execution_count": 14,
   "metadata": {},
   "outputs": [
    {
     "name": "stdout",
     "output_type": "stream",
     "text": [
      "[ 0.  0.  0.  0.  1.  0.  0.  0.  0.  0.]\n"
     ]
    }
   ],
   "source": [
    "# 1. create a null array of size 10 called Z.\n",
    "# 2. Make the 5th value of Z equal to 1\n",
    "# 3. Print Z\n",
    "##############################\n",
    "\n",
    "Z = np.zeros(10)\n",
    "Z[4] = 1\n",
    "print(Z)\n"
   ]
  },
  {
   "cell_type": "code",
   "execution_count": 16,
   "metadata": {},
   "outputs": [
    {
     "name": "stdout",
     "output_type": "stream",
     "text": [
      "[[ 0.  0.]\n",
      " [ 0.  0.]]\n",
      "[[ 1.  1.]\n",
      " [ 1.  1.]]\n",
      "[[4 4]\n",
      " [4 4]]\n",
      "[[ 1.  0.]\n",
      " [ 0.  1.]]\n"
     ]
    }
   ],
   "source": [
    "# Print Z after every step below\n",
    "# 1. Create a 2 x 2 array with all zeros. Call it Z.\n",
    "# 2. Make Z = to a 2 x 2 array with all ones\n",
    "# 3. Make Z = to a 2 x 2 array with all 4's\n",
    "# 4. Make z = to a 2 x 2 identity matrix\n",
    "##############################\n",
    "Z = np.zeros((2,2))\n",
    "print(Z)\n",
    "Z = np.ones((2,2))\n",
    "print(Z)\n",
    "Z = np.full((2,2), 4)\n",
    "print(Z)\n",
    "Z = np.eye(2)\n",
    "print(Z)"
   ]
  },
  {
   "cell_type": "code",
   "execution_count": 25,
   "metadata": {},
   "outputs": [
    {
     "name": "stdout",
     "output_type": "stream",
     "text": [
      "[[0 1 2]\n",
      " [3 4 5]]\n",
      "(2, 3)\n",
      "[0 1 2 3 4 5]\n",
      "(6,)\n",
      "[[0 1 2]\n",
      " [3 4 5]]\n",
      "(2, 3)\n"
     ]
    }
   ],
   "source": [
    "# 1. Create a rank 2 array (2D) with 3 coloumns that looks like [[0 1 2], [3, 4 ,5]]. Call it Z and print it.\n",
    "# 2. Print the shape of Z.\n",
    "# 3. Initialize an array X from values 0 - 5. Print X. Print the Shape of X\n",
    "# 4. Transform X into a rank 2 array with 3 coloumns. Pritn X. Print the shape of X.\n",
    "#########################\n",
    "\n",
    "Z = np.array([[0,1,2], [3, 4, 5]])\n",
    "print(Z)\n",
    "print(Z.shape)\n",
    "\n",
    "X = np.arange(6)\n",
    "print(X)\n",
    "print(X.shape)\n",
    "\n",
    "X = np.arange(6).reshape(2,3)\n",
    "print(X)\n",
    "print(X.shape)\n"
   ]
  },
  {
   "cell_type": "code",
   "execution_count": 8,
   "metadata": {},
   "outputs": [
    {
     "name": "stdout",
     "output_type": "stream",
     "text": [
      "[[ 0.10142452  0.48122312  0.45958066  0.56310389  0.60815282]\n",
      " [ 0.58479921  0.84664799  0.98498617  0.47684612  0.44329216]\n",
      " [ 0.23598511  0.04946631  0.57369088  0.87004661  0.85613233]\n",
      " [ 0.8709709   0.63800537  0.06996201  0.09877366  0.57589709]\n",
      " [ 0.91404372  0.94676893  0.21533946  0.49332761  0.77286546]]\n",
      "[[0 1 2]\n",
      " [3 4 5]\n",
      " [6 7 8]]\n"
     ]
    }
   ],
   "source": [
    "# 1. Create a 5 x 5 matrix and initialize it with random numbers. Call it X.\n",
    "# 2. Create a 3 x 3 matrix with values ranging from 0-8. Call it Y.\n",
    "# 3. Print X and Y:\n",
    "#########################\n",
    "X = np.random.random((5,5))\n",
    "Y = np.arange(9).reshape(3,3)\n",
    "print(X)\n",
    "print(Y)"
   ]
  },
  {
   "cell_type": "code",
   "execution_count": 36,
   "metadata": {},
   "outputs": [
    {
     "name": "stdout",
     "output_type": "stream",
     "text": [
      "[0 1 2 3 4]\n",
      "[5 6 7 8 9]\n",
      "[3 4 5 6]\n"
     ]
    }
   ],
   "source": [
    "# 1. Create Z, a rank one array with range 0 - 9.\n",
    "# 2. Print out the first 5 values of Z\n",
    "# 3. Print out the last 5 values of Z (bonus: use negative indexing)\n",
    "# 4. Print out the middle 4 values of Z\n",
    "###########################\n",
    "Z = np.arange(10)\n",
    "print(Z[:5])\n",
    "print(Z[-5:])\n",
    "print(Z[3:7])\n"
   ]
  },
  {
   "cell_type": "code",
   "execution_count": 42,
   "metadata": {},
   "outputs": [
    {
     "name": "stdout",
     "output_type": "stream",
     "text": [
      "(4, 3)\n",
      "[[ 8  9]\n",
      " [11 12]]\n",
      "[[   8    9]\n",
      " [  11 -100]]\n",
      "[[   1    2    3]\n",
      " [   4    5    6]\n",
      " [   7    8    9]\n",
      " [  10   11 -100]]\n"
     ]
    }
   ],
   "source": [
    "# 1. Create the following array Z (with rank 4) with shape (4,3).\n",
    "    # [[1 2 3] \n",
    "    #  [4 5 6]\n",
    "    #  [7 8 9]\n",
    "    #  [10 11 12]]\n",
    "# 2. Print the shape of Z\n",
    "# 3. Use slicing to create a subarray X which consists of the last 2 rows and last 2 coloumns of Z. Print X.\n",
    "# 4. Change the value of Z at [4, 3] to -100 by modifying X. \n",
    "# 5. Print X\n",
    "# 6. Print Z\n",
    "##############################\n",
    "Z = np.array([[1,2,3], [4,5,6], [7, 8, 9], [10, 11, 12]])\n",
    "print(Z.shape)\n",
    "X = Z[2: , 1:]\n",
    "print(X)\n",
    "X[1,1] = -100\n",
    "print(X)\n",
    "print(Z)\n"
   ]
  },
  {
   "cell_type": "markdown",
   "metadata": {},
   "source": [
    "###### The following example is something similar to what you would see when setting up a linear regression model. The data is from the Boston Housing Data Set"
   ]
  },
  {
   "cell_type": "code",
   "execution_count": 48,
   "metadata": {},
   "outputs": [
    {
     "name": "stdout",
     "output_type": "stream",
     "text": [
      "Boston House Prices dataset\n",
      "===========================\n",
      "\n",
      "Notes\n",
      "------\n",
      "Data Set Characteristics:  \n",
      "\n",
      "    :Number of Instances: 506 \n",
      "\n",
      "    :Number of Attributes: 13 numeric/categorical predictive\n",
      "    \n",
      "    :Median Value (attribute 14) is usually the target\n",
      "\n",
      "    :Attribute Information (in order):\n",
      "        - CRIM     per capita crime rate by town\n",
      "        - ZN       proportion of residential land zoned for lots over 25,000 sq.ft.\n",
      "        - INDUS    proportion of non-retail business acres per town\n",
      "        - CHAS     Charles River dummy variable (= 1 if tract bounds river; 0 otherwise)\n",
      "        - NOX      nitric oxides concentration (parts per 10 million)\n",
      "        - RM       average number of rooms per dwelling\n",
      "        - AGE      proportion of owner-occupied units built prior to 1940\n",
      "        - DIS      weighted distances to five Boston employment centres\n",
      "        - RAD      index of accessibility to radial highways\n",
      "        - TAX      full-value property-tax rate per $10,000\n",
      "        - PTRATIO  pupil-teacher ratio by town\n",
      "        - B        1000(Bk - 0.63)^2 where Bk is the proportion of blacks by town\n",
      "        - LSTAT    % lower status of the population\n",
      "        - MEDV     Median value of owner-occupied homes in $1000's\n",
      "\n",
      "    :Missing Attribute Values: None\n",
      "\n",
      "    :Creator: Harrison, D. and Rubinfeld, D.L.\n",
      "\n",
      "This is a copy of UCI ML housing dataset.\n",
      "http://archive.ics.uci.edu/ml/datasets/Housing\n",
      "\n",
      "\n",
      "This dataset was taken from the StatLib library which is maintained at Carnegie Mellon University.\n",
      "\n",
      "The Boston house-price data of Harrison, D. and Rubinfeld, D.L. 'Hedonic\n",
      "prices and the demand for clean air', J. Environ. Economics & Management,\n",
      "vol.5, 81-102, 1978.   Used in Belsley, Kuh & Welsch, 'Regression diagnostics\n",
      "...', Wiley, 1980.   N.B. Various transformations are used in the table on\n",
      "pages 244-261 of the latter.\n",
      "\n",
      "The Boston house-price data has been used in many machine learning papers that address regression\n",
      "problems.   \n",
      "     \n",
      "**References**\n",
      "\n",
      "   - Belsley, Kuh & Welsch, 'Regression diagnostics: Identifying Influential Data and Sources of Collinearity', Wiley, 1980. 244-261.\n",
      "   - Quinlan,R. (1993). Combining Instance-Based and Model-Based Learning. In Proceedings on the Tenth International Conference of Machine Learning, 236-243, University of Massachusetts, Amherst. Morgan Kaufmann.\n",
      "   - many more! (see http://archive.ics.uci.edu/ml/datasets/Housing)\n",
      "\n"
     ]
    }
   ],
   "source": [
    "#import the Boston data set:\n",
    "from sklearn.datasets import load_boston\n",
    "boston = load_boston()\n",
    "\n",
    "print(boston.DESCR)"
   ]
  },
  {
   "cell_type": "code",
   "execution_count": 56,
   "metadata": {},
   "outputs": [
    {
     "name": "stdout",
     "output_type": "stream",
     "text": [
      "(506, 13)\n",
      "(506,)\n"
     ]
    }
   ],
   "source": [
    "# Investigate shape of the input data array\n",
    "data = boston.data\n",
    "target = boston.target\n",
    "\n",
    "print(data.shape)\n",
    "print(target.shape)\n",
    "\n",
    "num_features = len(boston.feature_names)\n",
    "num_samples = data.shape[0] # 506 training examples\n",
    "\n",
    "# 1. Normalize the 'Data' as mean-centered, bounded by 1. This means for each feature in num features,\n",
    "    # calculate the mean and the max of all of the data for that feature, and then subtract the mean and divide by the max for each data point\n",
    "    # Hint, use the np.amax() function to find the max data point for a feature.\n",
    "####################################\n",
    "\n",
    "for i in range(num_features):\n",
    "    feature_avg = np.mean(data[:, i])\n",
    "    feature_max = np.amax(data[:, i])\n",
    "    data[:, i] = (data[:, i]-feature_avg)/feature_max\n"
   ]
  },
  {
   "cell_type": "code",
   "execution_count": null,
   "metadata": {
    "collapsed": true
   },
   "outputs": [],
   "source": []
  }
 ],
 "metadata": {
  "kernelspec": {
   "display_name": "Python [conda env:caispp]",
   "language": "python",
   "name": "conda-env-caispp-py"
  },
  "language_info": {
   "codemirror_mode": {
    "name": "ipython",
    "version": 3
   },
   "file_extension": ".py",
   "mimetype": "text/x-python",
   "name": "python",
   "nbconvert_exporter": "python",
   "pygments_lexer": "ipython3",
   "version": "3.5.4"
  }
 },
 "nbformat": 4,
 "nbformat_minor": 2
}
