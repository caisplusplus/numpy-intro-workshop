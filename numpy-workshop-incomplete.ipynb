{
 "cells": [
  {
   "cell_type": "markdown",
   "metadata": {},
   "source": [
    "## Python/Numpy Workshop\n",
    "\n",
    "For this workshop you will be learning how to use the python library NumPy, which is heavily depended on when writing scripts for machine learning models, as it makes data processing intuitive.\n",
    "\n",
    "###### Using Jupyter Notebooks\n",
    "To run a cell, press shift + enter\n"
   ]
  },
  {
   "cell_type": "code",
   "execution_count": 1,
   "metadata": {},
   "outputs": [],
   "source": [
    "# 1. Import the numpy package under the name np. You will need to do this step everytime you want to use NumPy!\n",
    "# 2. Create a rank 1 array (1D) with values from 1 - 3. Call it Z, and print it. \n",
    "# 3. Change the first value of Z to a 5.\n",
    "# 4. Sort Z, and then print it.\n",
    "#########################\n",
    "\n"
   ]
  },
  {
   "cell_type": "code",
   "execution_count": 2,
   "metadata": {},
   "outputs": [],
   "source": [
    "# 1. create a null array of size 10 called Z.\n",
    "# 2. Make the 5th value of Z equal to 1\n",
    "# 3. Print Z\n",
    "##############################\n"
   ]
  },
  {
   "cell_type": "code",
   "execution_count": 3,
   "metadata": {},
   "outputs": [],
   "source": [
    "# Print Z after every step below\n",
    "# 1. Create a 2 x 2 array with all zeros. Call it Z.\n",
    "# 2. Make Z = to a 2 x 2 array with all ones\n",
    "# 3. Make Z = to a 2 x 2 array with all 4's\n",
    "# 4. Make z = to a 2 x 2 identity matrix\n",
    "##############################\n"
   ]
  },
  {
   "cell_type": "code",
   "execution_count": 4,
   "metadata": {},
   "outputs": [],
   "source": [
    "# 1. Create a rank 2 array (2D) with 3 coloumns that looks like [[0 1 2], [3, 4 ,5]]. Call it Z and print it.\n",
    "# 2. Print the shape of Z.\n",
    "# 3. Initialize an array X from values 0 - 5. Print X. Print the Shape of X\n",
    "# 4. Transform X into a rank 2 array with 3 coloumns. Pritn X. Print the shape of X.\n",
    "#########################\n",
    "\n"
   ]
  },
  {
   "cell_type": "code",
   "execution_count": 5,
   "metadata": {},
   "outputs": [],
   "source": [
    "# 1. Create a 5 x 5 matrix and initialize it with random numbers. Call it X.\n",
    "# 2. Create a 3 x 3 matrix with values ranging from 0-8. Call it Y.\n",
    "# 3. Print X and Y:\n",
    "#########################\n"
   ]
  },
  {
   "cell_type": "code",
   "execution_count": 6,
   "metadata": {},
   "outputs": [],
   "source": [
    "# 1. Create Z, a rank one array with range 0 - 9.\n",
    "# 2. Print out the first 5 values of Z\n",
    "# 3. Print out the last 5 values of Z (bonus: use negative indexing)\n",
    "# 4. Print out the middle 4 values of Z\n",
    "###########################\n",
    "\n"
   ]
  },
  {
   "cell_type": "code",
   "execution_count": 7,
   "metadata": {},
   "outputs": [],
   "source": [
    "# 1. Create the following array Z (with rank 4) with shape (4,3).\n",
    "    # [[1 2 3] \n",
    "    #  [4 5 6]\n",
    "    #  [7 8 9]\n",
    "    #  [10 11 12]]\n",
    "# 2. Print the shape of Z\n",
    "# 3. Use slicing to create a subarray X which consists of the last 2 rows and last 2 coloumns of Z. Print X.\n",
    "# 4. Change the value of Z at [4, 3] to -100 by modifying X. \n",
    "# 5. Print X\n",
    "# 6. Print Z\n",
    "##############################\n",
    "\n"
   ]
  },
  {
   "cell_type": "markdown",
   "metadata": {},
   "source": [
    "###### The following example is something similar to what you would see when setting up a linear regression model. The data is from the Boston Housing Data Set"
   ]
  },
  {
   "cell_type": "code",
   "execution_count": 8,
   "metadata": {},
   "outputs": [
    {
     "name": "stdout",
     "output_type": "stream",
     "text": [
      "Boston House Prices dataset\n",
      "===========================\n",
      "\n",
      "Notes\n",
      "------\n",
      "Data Set Characteristics:  \n",
      "\n",
      "    :Number of Instances: 506 \n",
      "\n",
      "    :Number of Attributes: 13 numeric/categorical predictive\n",
      "    \n",
      "    :Median Value (attribute 14) is usually the target\n",
      "\n",
      "    :Attribute Information (in order):\n",
      "        - CRIM     per capita crime rate by town\n",
      "        - ZN       proportion of residential land zoned for lots over 25,000 sq.ft.\n",
      "        - INDUS    proportion of non-retail business acres per town\n",
      "        - CHAS     Charles River dummy variable (= 1 if tract bounds river; 0 otherwise)\n",
      "        - NOX      nitric oxides concentration (parts per 10 million)\n",
      "        - RM       average number of rooms per dwelling\n",
      "        - AGE      proportion of owner-occupied units built prior to 1940\n",
      "        - DIS      weighted distances to five Boston employment centres\n",
      "        - RAD      index of accessibility to radial highways\n",
      "        - TAX      full-value property-tax rate per $10,000\n",
      "        - PTRATIO  pupil-teacher ratio by town\n",
      "        - B        1000(Bk - 0.63)^2 where Bk is the proportion of blacks by town\n",
      "        - LSTAT    % lower status of the population\n",
      "        - MEDV     Median value of owner-occupied homes in $1000's\n",
      "\n",
      "    :Missing Attribute Values: None\n",
      "\n",
      "    :Creator: Harrison, D. and Rubinfeld, D.L.\n",
      "\n",
      "This is a copy of UCI ML housing dataset.\n",
      "http://archive.ics.uci.edu/ml/datasets/Housing\n",
      "\n",
      "\n",
      "This dataset was taken from the StatLib library which is maintained at Carnegie Mellon University.\n",
      "\n",
      "The Boston house-price data of Harrison, D. and Rubinfeld, D.L. 'Hedonic\n",
      "prices and the demand for clean air', J. Environ. Economics & Management,\n",
      "vol.5, 81-102, 1978.   Used in Belsley, Kuh & Welsch, 'Regression diagnostics\n",
      "...', Wiley, 1980.   N.B. Various transformations are used in the table on\n",
      "pages 244-261 of the latter.\n",
      "\n",
      "The Boston house-price data has been used in many machine learning papers that address regression\n",
      "problems.   \n",
      "     \n",
      "**References**\n",
      "\n",
      "   - Belsley, Kuh & Welsch, 'Regression diagnostics: Identifying Influential Data and Sources of Collinearity', Wiley, 1980. 244-261.\n",
      "   - Quinlan,R. (1993). Combining Instance-Based and Model-Based Learning. In Proceedings on the Tenth International Conference of Machine Learning, 236-243, University of Massachusetts, Amherst. Morgan Kaufmann.\n",
      "   - many more! (see http://archive.ics.uci.edu/ml/datasets/Housing)\n",
      "\n"
     ]
    }
   ],
   "source": [
    "#import the Boston data set:\n",
    "from sklearn.datasets import load_boston\n",
    "boston = load_boston()\n",
    "\n",
    "print(boston.DESCR)"
   ]
  },
  {
   "cell_type": "code",
   "execution_count": 9,
   "metadata": {},
   "outputs": [
    {
     "name": "stdout",
     "output_type": "stream",
     "text": [
      "(506, 13)\n",
      "(506,)\n"
     ]
    }
   ],
   "source": [
    "# Investigate shape of the input data array\n",
    "data = boston.data\n",
    "target = boston.target\n",
    "\n",
    "print(data.shape)\n",
    "print(target.shape)\n",
    "\n",
    "num_features = len(boston.feature_names)\n",
    "num_samples = data.shape[0] # 506 training examples\n",
    "\n",
    "# 1. Normalize the 'Data' as mean-centered, bounded by 1. This means for each feature in num features,\n",
    "    # calculate the mean and the max of all of the data for that feature, and then subtract the mean and divide by the max for each data point\n",
    "    # Hint, use the np.amax() function to find the max data point for a feature.\n",
    "####################################\n"
   ]
  },
  {
   "cell_type": "code",
   "execution_count": null,
   "metadata": {
    "collapsed": true
   },
   "outputs": [],
   "source": []
  }
 ],
 "metadata": {
  "kernelspec": {
   "display_name": "Python [conda env:caispp]",
   "language": "python",
   "name": "conda-env-caispp-py"
  },
  "language_info": {
   "codemirror_mode": {
    "name": "ipython",
    "version": 3
   },
   "file_extension": ".py",
   "mimetype": "text/x-python",
   "name": "python",
   "nbconvert_exporter": "python",
   "pygments_lexer": "ipython3",
   "version": "3.5.4"
  }
 },
 "nbformat": 4,
 "nbformat_minor": 2
}
